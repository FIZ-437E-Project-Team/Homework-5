{
  "cells": [
    {
      "cell_type": "code",
      "execution_count": null,
      "metadata": {
        "id": "kahm6Z8v_TqC",
        "colab": {
          "base_uri": "https://localhost:8080/"
        },
        "outputId": "f5f90414-cdf0-45fe-8a4b-b7e3f8ed5503"
      },
      "outputs": [
        {
          "output_type": "stream",
          "name": "stdout",
          "text": [
            "Reading package lists... Done\n",
            "Building dependency tree       \n",
            "Reading state information... Done\n",
            "The following packages were automatically installed and are no longer required:\n",
            "  cuda-command-line-tools-10-0 cuda-command-line-tools-10-1\n",
            "  cuda-command-line-tools-11-0 cuda-compiler-10-0 cuda-compiler-10-1\n",
            "  cuda-compiler-11-0 cuda-cuobjdump-10-0 cuda-cuobjdump-10-1\n",
            "  cuda-cuobjdump-11-0 cuda-cupti-10-0 cuda-cupti-10-1 cuda-cupti-11-0\n",
            "  cuda-cupti-dev-11-0 cuda-documentation-10-0 cuda-documentation-10-1\n",
            "  cuda-documentation-11-0 cuda-documentation-11-1 cuda-gdb-10-0 cuda-gdb-10-1\n",
            "  cuda-gdb-11-0 cuda-gpu-library-advisor-10-0 cuda-gpu-library-advisor-10-1\n",
            "  cuda-libraries-10-0 cuda-libraries-10-1 cuda-libraries-11-0\n",
            "  cuda-memcheck-10-0 cuda-memcheck-10-1 cuda-memcheck-11-0 cuda-nsight-10-0\n",
            "  cuda-nsight-10-1 cuda-nsight-11-0 cuda-nsight-11-1 cuda-nsight-compute-10-0\n",
            "  cuda-nsight-compute-10-1 cuda-nsight-compute-11-0 cuda-nsight-compute-11-1\n",
            "  cuda-nsight-systems-10-1 cuda-nsight-systems-11-0 cuda-nsight-systems-11-1\n",
            "  cuda-nvcc-10-0 cuda-nvcc-10-1 cuda-nvcc-11-0 cuda-nvdisasm-10-0\n",
            "  cuda-nvdisasm-10-1 cuda-nvdisasm-11-0 cuda-nvml-dev-10-0 cuda-nvml-dev-10-1\n",
            "  cuda-nvml-dev-11-0 cuda-nvprof-10-0 cuda-nvprof-10-1 cuda-nvprof-11-0\n",
            "  cuda-nvprune-10-0 cuda-nvprune-10-1 cuda-nvprune-11-0 cuda-nvtx-10-0\n",
            "  cuda-nvtx-10-1 cuda-nvtx-11-0 cuda-nvvp-10-0 cuda-nvvp-10-1 cuda-nvvp-11-0\n",
            "  cuda-nvvp-11-1 cuda-samples-10-0 cuda-samples-10-1 cuda-samples-11-0\n",
            "  cuda-samples-11-1 cuda-sanitizer-11-0 cuda-sanitizer-api-10-1\n",
            "  cuda-toolkit-10-0 cuda-toolkit-10-1 cuda-toolkit-11-0 cuda-toolkit-11-1\n",
            "  cuda-tools-10-0 cuda-tools-10-1 cuda-tools-11-0 cuda-tools-11-1\n",
            "  cuda-visual-tools-10-0 cuda-visual-tools-10-1 cuda-visual-tools-11-0\n",
            "  cuda-visual-tools-11-1 default-jre dkms freeglut3 freeglut3-dev\n",
            "  keyboard-configuration libargon2-0 libcap2 libcryptsetup12\n",
            "  libdevmapper1.02.1 libfontenc1 libidn11 libip4tc0 libjansson4\n",
            "  libnvidia-cfg1-510 libnvidia-common-460 libnvidia-common-510\n",
            "  libnvidia-extra-510 libnvidia-fbc1-510 libnvidia-gl-510 libpam-systemd\n",
            "  libpolkit-agent-1-0 libpolkit-backend-1-0 libpolkit-gobject-1-0 libxfont2\n",
            "  libxi-dev libxkbfile1 libxmu-dev libxmu-headers libxnvctrl0 libxtst6\n",
            "  nsight-compute-2020.2.1 nsight-compute-2022.1.0 nsight-systems-2020.3.2\n",
            "  nsight-systems-2020.3.4 nsight-systems-2021.5.2 nvidia-dkms-510\n",
            "  nvidia-kernel-common-510 nvidia-kernel-source-510 nvidia-modprobe\n",
            "  nvidia-settings openjdk-11-jre policykit-1 policykit-1-gnome python3-xkit\n",
            "  screen-resolution-extra systemd systemd-sysv udev x11-xkb-utils\n",
            "  xserver-common xserver-xorg-core-hwe-18.04 xserver-xorg-video-nvidia-510\n",
            "Use 'sudo apt autoremove' to remove them.\n",
            "The following additional packages will be installed:\n",
            "  fluid-soundfont-gm libfluidsynth1 libqt5x11extras5 qsynth\n",
            "Suggested packages:\n",
            "  fluid-soundfont-gs timidity jackd\n",
            "The following NEW packages will be installed:\n",
            "  fluid-soundfont-gm fluidsynth libfluidsynth1 libqt5x11extras5 qsynth\n",
            "0 upgraded, 5 newly installed, 0 to remove and 39 not upgraded.\n",
            "Need to get 120 MB of archives.\n",
            "After this operation, 150 MB of additional disk space will be used.\n",
            "Get:1 http://archive.ubuntu.com/ubuntu bionic/universe amd64 fluid-soundfont-gm all 3.1-5.1 [119 MB]\n",
            "Get:2 http://archive.ubuntu.com/ubuntu bionic/universe amd64 libfluidsynth1 amd64 1.1.9-1 [137 kB]\n",
            "Get:3 http://archive.ubuntu.com/ubuntu bionic/universe amd64 fluidsynth amd64 1.1.9-1 [20.7 kB]\n",
            "Get:4 http://archive.ubuntu.com/ubuntu bionic/universe amd64 libqt5x11extras5 amd64 5.9.5-0ubuntu1 [8,596 B]\n",
            "Get:5 http://archive.ubuntu.com/ubuntu bionic/universe amd64 qsynth amd64 0.5.0-2 [191 kB]\n",
            "Fetched 120 MB in 7s (16.7 MB/s)\n",
            "debconf: unable to initialize frontend: Dialog\n",
            "debconf: (No usable dialog-like program is installed, so the dialog based frontend cannot be used. at /usr/share/perl5/Debconf/FrontEnd/Dialog.pm line 76, <> line 5.)\n",
            "debconf: falling back to frontend: Readline\n",
            "debconf: unable to initialize frontend: Readline\n",
            "debconf: (This frontend requires a controlling tty.)\n",
            "debconf: falling back to frontend: Teletype\n",
            "dpkg-preconfigure: unable to re-open stdin: \n",
            "Selecting previously unselected package fluid-soundfont-gm.\n",
            "(Reading database ... 155113 files and directories currently installed.)\n",
            "Preparing to unpack .../fluid-soundfont-gm_3.1-5.1_all.deb ...\n",
            "Unpacking fluid-soundfont-gm (3.1-5.1) ...\n",
            "Selecting previously unselected package libfluidsynth1:amd64.\n",
            "Preparing to unpack .../libfluidsynth1_1.1.9-1_amd64.deb ...\n",
            "Unpacking libfluidsynth1:amd64 (1.1.9-1) ...\n",
            "Selecting previously unselected package fluidsynth.\n",
            "Preparing to unpack .../fluidsynth_1.1.9-1_amd64.deb ...\n",
            "Unpacking fluidsynth (1.1.9-1) ...\n",
            "Selecting previously unselected package libqt5x11extras5:amd64.\n",
            "Preparing to unpack .../libqt5x11extras5_5.9.5-0ubuntu1_amd64.deb ...\n",
            "Unpacking libqt5x11extras5:amd64 (5.9.5-0ubuntu1) ...\n",
            "Selecting previously unselected package qsynth.\n",
            "Preparing to unpack .../qsynth_0.5.0-2_amd64.deb ...\n",
            "Unpacking qsynth (0.5.0-2) ...\n",
            "Setting up libqt5x11extras5:amd64 (5.9.5-0ubuntu1) ...\n",
            "Setting up fluid-soundfont-gm (3.1-5.1) ...\n",
            "Setting up libfluidsynth1:amd64 (1.1.9-1) ...\n",
            "Setting up fluidsynth (1.1.9-1) ...\n",
            "Setting up qsynth (0.5.0-2) ...\n",
            "Processing triggers for hicolor-icon-theme (0.17-2) ...\n",
            "Processing triggers for mime-support (3.60ubuntu1) ...\n",
            "Processing triggers for libc-bin (2.27-3ubuntu1.3) ...\n",
            "/sbin/ldconfig.real: /usr/local/lib/python3.7/dist-packages/ideep4py/lib/libmkldnn.so.0 is not a symbolic link\n",
            "\n",
            "Processing triggers for man-db (2.8.3-2ubuntu0.1) ...\n"
          ]
        }
      ],
      "source": [
        "!sudo apt install -y fluidsynth"
      ]
    },
    {
      "cell_type": "code",
      "execution_count": null,
      "metadata": {
        "id": "M0lAReB7_Vqb",
        "colab": {
          "base_uri": "https://localhost:8080/"
        },
        "outputId": "1adf896a-8611-4856-ec4c-3b23a765d956"
      },
      "outputs": [
        {
          "output_type": "stream",
          "name": "stdout",
          "text": [
            "Collecting pyfluidsynth\n",
            "  Downloading pyFluidSynth-1.3.0-py3-none-any.whl (18 kB)\n",
            "Requirement already satisfied: numpy in /usr/local/lib/python3.7/dist-packages (from pyfluidsynth) (1.19.5)\n",
            "Installing collected packages: pyfluidsynth\n",
            "Successfully installed pyfluidsynth-1.3.0\n"
          ]
        }
      ],
      "source": [
        "!pip install --upgrade pyfluidsynth"
      ]
    },
    {
      "cell_type": "code",
      "execution_count": null,
      "metadata": {
        "id": "G46kKoQZmIa8",
        "colab": {
          "base_uri": "https://localhost:8080/"
        },
        "outputId": "345e754d-72ae-4ccb-f0df-d8ac214505cb"
      },
      "outputs": [
        {
          "output_type": "stream",
          "name": "stdout",
          "text": [
            "Collecting pretty_midi\n",
            "  Downloading pretty_midi-0.2.9.tar.gz (5.6 MB)\n",
            "\u001b[K     |████████████████████████████████| 5.6 MB 6.1 MB/s \n",
            "\u001b[?25hRequirement already satisfied: numpy>=1.7.0 in /usr/local/lib/python3.7/dist-packages (from pretty_midi) (1.19.5)\n",
            "Collecting mido>=1.1.16\n",
            "  Downloading mido-1.2.10-py2.py3-none-any.whl (51 kB)\n",
            "\u001b[K     |████████████████████████████████| 51 kB 7.4 MB/s \n",
            "\u001b[?25hRequirement already satisfied: six in /usr/local/lib/python3.7/dist-packages (from pretty_midi) (1.15.0)\n",
            "Building wheels for collected packages: pretty-midi\n",
            "  Building wheel for pretty-midi (setup.py) ... \u001b[?25l\u001b[?25hdone\n",
            "  Created wheel for pretty-midi: filename=pretty_midi-0.2.9-py3-none-any.whl size=5591955 sha256=406e5e57c353620fd9804820950943b98c6787747b9ea6d7944e39f8a7749f8a\n",
            "  Stored in directory: /root/.cache/pip/wheels/ad/74/7c/a06473ca8dcb63efb98c1e67667ce39d52100f837835ea18fa\n",
            "Successfully built pretty-midi\n",
            "Installing collected packages: mido, pretty-midi\n",
            "Successfully installed mido-1.2.10 pretty-midi-0.2.9\n"
          ]
        }
      ],
      "source": [
        "!pip install pretty_midi"
      ]
    },
    {
      "cell_type": "code",
      "execution_count": null,
      "metadata": {
        "id": "GsLFq7nsiqcq"
      },
      "outputs": [],
      "source": [
        "import collections\n",
        "import datetime\n",
        "import fluidsynth\n",
        "import glob\n",
        "import numpy as np\n",
        "import pathlib\n",
        "import pandas as pd\n",
        "import pretty_midi\n",
        "import seaborn as sns\n",
        "import tensorflow as tf\n",
        "\n",
        "from IPython import display\n",
        "from matplotlib import pyplot as plt\n",
        "from typing import Dict, List, Optional, Sequence, Tuple"
      ]
    },
    {
      "cell_type": "code",
      "execution_count": null,
      "metadata": {
        "id": "Efja_OtJNzAM"
      },
      "outputs": [],
      "source": [
        "seed = 42\n",
        "tf.random.set_seed(seed)\n",
        "np.random.seed(seed)\n",
        "\n",
        "# Sampling rate for audio playback\n",
        "_SAMPLING_RATE = 252"
      ]
    },
    {
      "cell_type": "markdown",
      "metadata": {
        "id": "FzIbfb-Ikgg7"
      },
      "source": [
        "## Dataset"
      ]
    },
    {
      "cell_type": "code",
      "execution_count": null,
      "metadata": {
        "id": "mwja4SWmibrL"
      },
      "outputs": [],
      "source": [
        "import os\n",
        "\n",
        "#from google.colab import drive\n",
        "#drive.mount('/content/drive')\n",
        "\n",
        "#data_dir = '/content/drive/MyDrive/turkce_sarkilar_midi'\n",
        "#for dirname, _, filenames in os.walk(data_dir): \n",
        "#    print(dirname)\n",
        "\n",
        "data_dir = pathlib.Path('/content/data')\n",
        "if not data_dir.exists():\n",
        "  tf.keras.utils.get_file(\n",
        "      'midi_turkce_sarkilar.zip',\n",
        "      origin='https://web.itu.edu.tr/koksalb17/midi_turkce_sarkilar/midi_turkce_sarkilar.zip',\n",
        "      extract=True,\n",
        "      cache_dir='.', cache_subdir='data',\n",
        "  )"
      ]
    },
    {
      "cell_type": "code",
      "execution_count": null,
      "metadata": {
        "id": "72iFI1bPB9o1",
        "colab": {
          "base_uri": "https://localhost:8080/"
        },
        "outputId": "7d561582-ce02-44b9-e4cd-ec889930fd72"
      },
      "outputs": [
        {
          "output_type": "stream",
          "name": "stdout",
          "text": [
            "Number of files:  209\n"
          ]
        }
      ],
      "source": [
        "filenames = glob.glob(str(data_dir/'*.mid*'))\n",
        "print('Number of files: ', len(filenames))"
      ]
    },
    {
      "cell_type": "code",
      "execution_count": null,
      "metadata": {
        "id": "6oSCbHvJNbci",
        "colab": {
          "base_uri": "https://localhost:8080/"
        },
        "outputId": "03363b77-3ce3-48da-fbfe-b4838ea72800"
      },
      "outputs": [
        {
          "output_type": "stream",
          "name": "stdout",
          "text": [
            "/content/data/Mustafa_Sandal_pazarak.mid\n"
          ]
        }
      ],
      "source": [
        "sample_file = filenames[0]\n",
        "print(sample_file)"
      ]
    },
    {
      "cell_type": "code",
      "execution_count": null,
      "metadata": {
        "id": "1YSQ5DjRI2md"
      },
      "outputs": [],
      "source": [
        "pm = pretty_midi.PrettyMIDI(sample_file)"
      ]
    },
    {
      "cell_type": "code",
      "execution_count": null,
      "metadata": {
        "id": "vzoHAaVY_kyY"
      },
      "outputs": [],
      "source": [
        "def display_audio(pm: pretty_midi.PrettyMIDI, seconds=30):\n",
        "  waveform = pm.fluidsynth(fs=_SAMPLING_RATE)\n",
        "  # Take a sample of the generated waveform to mitigate kernel resets\n",
        "  waveform_short = waveform[:seconds*_SAMPLING_RATE]\n",
        "  return display.Audio(waveform_short, rate=_SAMPLING_RATE)"
      ]
    },
    {
      "cell_type": "code",
      "execution_count": null,
      "metadata": {
        "id": "GOe-3AAi_sRw",
        "colab": {
          "base_uri": "https://localhost:8080/",
          "height": 75
        },
        "outputId": "0d6d1075-6f69-44e5-a59a-47a7a275917d"
      },
      "outputs": [
        {
          "output_type": "execute_result",
          "data": {
            "text/html": [
              "\n",
              "                <audio controls=\"controls\" >\n",
              "                    <source src=\"data:audio/wav;base64,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\" type=\"audio/wav\" />\n",
              "                    Your browser does not support the audio element.\n",
              "                </audio>\n",
              "              "
            ],
            "text/plain": [
              "<IPython.lib.display.Audio object>"
            ]
          },
          "metadata": {},
          "execution_count": 68
        }
      ],
      "source": [
        "display_audio(pm)"
      ]
    },
    {
      "cell_type": "code",
      "execution_count": null,
      "metadata": {
        "id": "SIGHYQPZQnRo",
        "colab": {
          "base_uri": "https://localhost:8080/"
        },
        "outputId": "40e15255-41a4-43ee-e4cb-820d87cca98b"
      },
      "outputs": [
        {
          "output_type": "stream",
          "name": "stdout",
          "text": [
            "Number of instruments: 14\n",
            "Instrument name: Koto\n"
          ]
        }
      ],
      "source": [
        "print('Number of instruments:', len(pm.instruments))\n",
        "instrument = pm.instruments[0]\n",
        "instrument_name = pretty_midi.program_to_instrument_name(instrument.program)\n",
        "print('Instrument name:', instrument_name)"
      ]
    },
    {
      "cell_type": "code",
      "execution_count": null,
      "metadata": {
        "id": "nYZm_VehYOTZ",
        "colab": {
          "base_uri": "https://localhost:8080/"
        },
        "outputId": "88b3d704-1e9b-4ef9-cf98-0b4c34232a33"
      },
      "outputs": [
        {
          "output_type": "stream",
          "name": "stdout",
          "text": [
            "0: pitch=74, note_name=D5, duration=0.1670\n",
            "1: pitch=72, note_name=C5, duration=0.1024\n",
            "2: pitch=70, note_name=A#4, duration=0.1379\n",
            "3: pitch=72, note_name=C5, duration=0.0830\n",
            "4: pitch=72, note_name=C5, duration=0.1185\n",
            "5: pitch=70, note_name=A#4, duration=0.2263\n",
            "6: pitch=74, note_name=D5, duration=0.3610\n",
            "7: pitch=72, note_name=C5, duration=0.1735\n",
            "8: pitch=70, note_name=A#4, duration=0.0959\n",
            "9: pitch=74, note_name=D5, duration=0.1595\n"
          ]
        }
      ],
      "source": [
        "for i, note in enumerate(instrument.notes[:10]):\n",
        "  note_name = pretty_midi.note_number_to_name(note.pitch)\n",
        "  duration = note.end - note.start\n",
        "  print(f'{i}: pitch={note.pitch}, note_name={note_name},'\n",
        "        f' duration={duration:.4f}')"
      ]
    },
    {
      "cell_type": "code",
      "execution_count": null,
      "metadata": {
        "id": "Wyp_wdcEPWby"
      },
      "outputs": [],
      "source": [
        "def midi_to_notes(midi_file: str) -> pd.DataFrame:\n",
        "  pm = pretty_midi.PrettyMIDI(midi_file)\n",
        "  instrument = pm.instruments[0]\n",
        "  notes = collections.defaultdict(list)\n",
        "\n",
        "  # Sort the notes by start time\n",
        "  sorted_notes = sorted(instrument.notes, key=lambda note: note.start)\n",
        "  prev_start = sorted_notes[0].start\n",
        "\n",
        "  for note in sorted_notes:\n",
        "    start = note.start\n",
        "    end = note.end\n",
        "    notes['pitch'].append(note.pitch)\n",
        "    notes['start'].append(start)\n",
        "    notes['end'].append(end)\n",
        "    notes['step'].append(start - prev_start)\n",
        "    notes['duration'].append(end - start)\n",
        "    prev_start = start\n",
        "\n",
        "  return pd.DataFrame({name: np.array(value) for name, value in notes.items()})"
      ]
    },
    {
      "cell_type": "code",
      "execution_count": null,
      "metadata": {
        "id": "X0kPjLBlcnY6",
        "colab": {
          "base_uri": "https://localhost:8080/",
          "height": 206
        },
        "outputId": "b8ef562f-cc64-4785-93ff-fad1929ca05a"
      },
      "outputs": [
        {
          "output_type": "execute_result",
          "data": {
            "text/html": [
              "\n",
              "  <div id=\"df-bc17e528-4d57-457e-bfd2-d6535beb4f51\">\n",
              "    <div class=\"colab-df-container\">\n",
              "      <div>\n",
              "<style scoped>\n",
              "    .dataframe tbody tr th:only-of-type {\n",
              "        vertical-align: middle;\n",
              "    }\n",
              "\n",
              "    .dataframe tbody tr th {\n",
              "        vertical-align: top;\n",
              "    }\n",
              "\n",
              "    .dataframe thead th {\n",
              "        text-align: right;\n",
              "    }\n",
              "</style>\n",
              "<table border=\"1\" class=\"dataframe\">\n",
              "  <thead>\n",
              "    <tr style=\"text-align: right;\">\n",
              "      <th></th>\n",
              "      <th>pitch</th>\n",
              "      <th>start</th>\n",
              "      <th>end</th>\n",
              "      <th>step</th>\n",
              "      <th>duration</th>\n",
              "    </tr>\n",
              "  </thead>\n",
              "  <tbody>\n",
              "    <tr>\n",
              "      <th>0</th>\n",
              "      <td>74</td>\n",
              "      <td>23.037438</td>\n",
              "      <td>23.204475</td>\n",
              "      <td>0.000000</td>\n",
              "      <td>0.167038</td>\n",
              "    </tr>\n",
              "    <tr>\n",
              "      <th>1</th>\n",
              "      <td>72</td>\n",
              "      <td>23.106408</td>\n",
              "      <td>23.208786</td>\n",
              "      <td>0.068970</td>\n",
              "      <td>0.102378</td>\n",
              "    </tr>\n",
              "    <tr>\n",
              "      <th>2</th>\n",
              "      <td>70</td>\n",
              "      <td>23.173223</td>\n",
              "      <td>23.311164</td>\n",
              "      <td>0.066815</td>\n",
              "      <td>0.137941</td>\n",
              "    </tr>\n",
              "    <tr>\n",
              "      <th>3</th>\n",
              "      <td>72</td>\n",
              "      <td>23.381212</td>\n",
              "      <td>23.464192</td>\n",
              "      <td>0.207989</td>\n",
              "      <td>0.082980</td>\n",
              "    </tr>\n",
              "    <tr>\n",
              "      <th>4</th>\n",
              "      <td>72</td>\n",
              "      <td>23.588123</td>\n",
              "      <td>23.706666</td>\n",
              "      <td>0.206911</td>\n",
              "      <td>0.118543</td>\n",
              "    </tr>\n",
              "  </tbody>\n",
              "</table>\n",
              "</div>\n",
              "      <button class=\"colab-df-convert\" onclick=\"convertToInteractive('df-bc17e528-4d57-457e-bfd2-d6535beb4f51')\"\n",
              "              title=\"Convert this dataframe to an interactive table.\"\n",
              "              style=\"display:none;\">\n",
              "        \n",
              "  <svg xmlns=\"http://www.w3.org/2000/svg\" height=\"24px\"viewBox=\"0 0 24 24\"\n",
              "       width=\"24px\">\n",
              "    <path d=\"M0 0h24v24H0V0z\" fill=\"none\"/>\n",
              "    <path d=\"M18.56 5.44l.94 2.06.94-2.06 2.06-.94-2.06-.94-.94-2.06-.94 2.06-2.06.94zm-11 1L8.5 8.5l.94-2.06 2.06-.94-2.06-.94L8.5 2.5l-.94 2.06-2.06.94zm10 10l.94 2.06.94-2.06 2.06-.94-2.06-.94-.94-2.06-.94 2.06-2.06.94z\"/><path d=\"M17.41 7.96l-1.37-1.37c-.4-.4-.92-.59-1.43-.59-.52 0-1.04.2-1.43.59L10.3 9.45l-7.72 7.72c-.78.78-.78 2.05 0 2.83L4 21.41c.39.39.9.59 1.41.59.51 0 1.02-.2 1.41-.59l7.78-7.78 2.81-2.81c.8-.78.8-2.07 0-2.86zM5.41 20L4 18.59l7.72-7.72 1.47 1.35L5.41 20z\"/>\n",
              "  </svg>\n",
              "      </button>\n",
              "      \n",
              "  <style>\n",
              "    .colab-df-container {\n",
              "      display:flex;\n",
              "      flex-wrap:wrap;\n",
              "      gap: 12px;\n",
              "    }\n",
              "\n",
              "    .colab-df-convert {\n",
              "      background-color: #E8F0FE;\n",
              "      border: none;\n",
              "      border-radius: 50%;\n",
              "      cursor: pointer;\n",
              "      display: none;\n",
              "      fill: #1967D2;\n",
              "      height: 32px;\n",
              "      padding: 0 0 0 0;\n",
              "      width: 32px;\n",
              "    }\n",
              "\n",
              "    .colab-df-convert:hover {\n",
              "      background-color: #E2EBFA;\n",
              "      box-shadow: 0px 1px 2px rgba(60, 64, 67, 0.3), 0px 1px 3px 1px rgba(60, 64, 67, 0.15);\n",
              "      fill: #174EA6;\n",
              "    }\n",
              "\n",
              "    [theme=dark] .colab-df-convert {\n",
              "      background-color: #3B4455;\n",
              "      fill: #D2E3FC;\n",
              "    }\n",
              "\n",
              "    [theme=dark] .colab-df-convert:hover {\n",
              "      background-color: #434B5C;\n",
              "      box-shadow: 0px 1px 3px 1px rgba(0, 0, 0, 0.15);\n",
              "      filter: drop-shadow(0px 1px 2px rgba(0, 0, 0, 0.3));\n",
              "      fill: #FFFFFF;\n",
              "    }\n",
              "  </style>\n",
              "\n",
              "      <script>\n",
              "        const buttonEl =\n",
              "          document.querySelector('#df-bc17e528-4d57-457e-bfd2-d6535beb4f51 button.colab-df-convert');\n",
              "        buttonEl.style.display =\n",
              "          google.colab.kernel.accessAllowed ? 'block' : 'none';\n",
              "\n",
              "        async function convertToInteractive(key) {\n",
              "          const element = document.querySelector('#df-bc17e528-4d57-457e-bfd2-d6535beb4f51');\n",
              "          const dataTable =\n",
              "            await google.colab.kernel.invokeFunction('convertToInteractive',\n",
              "                                                     [key], {});\n",
              "          if (!dataTable) return;\n",
              "\n",
              "          const docLinkHtml = 'Like what you see? Visit the ' +\n",
              "            '<a target=\"_blank\" href=https://colab.research.google.com/notebooks/data_table.ipynb>data table notebook</a>'\n",
              "            + ' to learn more about interactive tables.';\n",
              "          element.innerHTML = '';\n",
              "          dataTable['output_type'] = 'display_data';\n",
              "          await google.colab.output.renderOutput(dataTable, element);\n",
              "          const docLink = document.createElement('div');\n",
              "          docLink.innerHTML = docLinkHtml;\n",
              "          element.appendChild(docLink);\n",
              "        }\n",
              "      </script>\n",
              "    </div>\n",
              "  </div>\n",
              "  "
            ],
            "text/plain": [
              "   pitch      start        end      step  duration\n",
              "0     74  23.037438  23.204475  0.000000  0.167038\n",
              "1     72  23.106408  23.208786  0.068970  0.102378\n",
              "2     70  23.173223  23.311164  0.066815  0.137941\n",
              "3     72  23.381212  23.464192  0.207989  0.082980\n",
              "4     72  23.588123  23.706666  0.206911  0.118543"
            ]
          },
          "metadata": {},
          "execution_count": 31
        }
      ],
      "source": [
        "raw_notes = midi_to_notes(sample_file)\n",
        "raw_notes.head()"
      ]
    },
    {
      "cell_type": "code",
      "execution_count": null,
      "metadata": {
        "id": "WE9YXrGZbY2X",
        "colab": {
          "base_uri": "https://localhost:8080/"
        },
        "outputId": "b1320da1-70e6-4a02-89c7-89dd195f268e"
      },
      "outputs": [
        {
          "output_type": "execute_result",
          "data": {
            "text/plain": [
              "array(['D5', 'C5', 'A#4', 'C5', 'C5', 'D5', 'A#4', 'C5', 'D5', 'A#4'],\n",
              "      dtype='<U3')"
            ]
          },
          "metadata": {},
          "execution_count": 32
        }
      ],
      "source": [
        "get_note_names = np.vectorize(pretty_midi.note_number_to_name)\n",
        "sample_note_names = get_note_names(raw_notes['pitch'])\n",
        "sample_note_names[:10]"
      ]
    },
    {
      "cell_type": "code",
      "execution_count": null,
      "metadata": {
        "id": "liD2N7x_WOTp"
      },
      "outputs": [],
      "source": [
        "def plot_piano_roll(notes: pd.DataFrame, count: Optional[int] = None):\n",
        "  if count:\n",
        "    title = f'First {count} notes'\n",
        "  else:\n",
        "    title = f'Whole track'\n",
        "    count = len(notes['pitch'])\n",
        "  plt.figure(figsize=(20, 4))\n",
        "  plot_pitch = np.stack([notes['pitch'], notes['pitch']], axis=0)\n",
        "  plot_start_stop = np.stack([notes['start'], notes['end']], axis=0)\n",
        "  plt.plot(\n",
        "      plot_start_stop[:, :count], plot_pitch[:, :count], color=\"b\", marker=\".\")\n",
        "  plt.xlabel('Time [s]')\n",
        "  plt.ylabel('Pitch')\n",
        "  _ = plt.title(title)"
      ]
    },
    {
      "cell_type": "code",
      "execution_count": null,
      "metadata": {
        "id": "vWeUbqmAXjOs",
        "colab": {
          "base_uri": "https://localhost:8080/",
          "height": 283
        },
        "outputId": "621936ad-7544-4221-82e3-7c47286257f7"
      },
      "outputs": [
        {
          "output_type": "display_data",
          "data": {
            "image/png": "[encoded data removed]",
            "text/plain": [
              "<Figure size 1440x288 with 1 Axes>"
            ]
          },
          "metadata": {
            "needs_background": "light"
          }
        }
      ],
      "source": [
        "plot_piano_roll(raw_notes, count=100)"
      ]
    },
    {
      "cell_type": "code",
      "execution_count": null,
      "metadata": {
        "id": "G7l76hEDZX8Z",
        "colab": {
          "base_uri": "https://localhost:8080/",
          "height": 283
        },
        "outputId": "251d4ffd-f6ac-4544-aeca-caa9ee625214"
      },
      "outputs": [
        {
          "output_type": "display_data",
          "data": {
            "image/png": "[encoded data removed]",
            "text/plain": [
              "<Figure size 1440x288 with 1 Axes>"
            ]
          },
          "metadata": {
            "needs_background": "light"
          }
        }
      ],
      "source": [
        "plot_piano_roll(raw_notes)"
      ]
    },
    {
      "cell_type": "code",
      "execution_count": null,
      "metadata": {
        "id": "Pq9C9XBBaK7W"
      },
      "outputs": [],
      "source": [
        "def plot_distributions(notes: pd.DataFrame, drop_percentile=2.5):\n",
        "  plt.figure(figsize=[15, 5])\n",
        "  plt.subplot(1, 3, 1)\n",
        "  sns.histplot(notes, x=\"pitch\", bins=20)\n",
        "\n",
        "  plt.subplot(1, 3, 2)\n",
        "  max_step = np.percentile(notes['step'], 100 - drop_percentile)\n",
        "  sns.histplot(notes, x=\"step\", bins=np.linspace(0, max_step, 21))\n",
        "  \n",
        "  plt.subplot(1, 3, 3)\n",
        "  max_duration = np.percentile(notes['duration'], 100 - drop_percentile)\n",
        "  sns.histplot(notes, x=\"duration\", bins=np.linspace(0, max_duration, 21))"
      ]
    },
    {
      "cell_type": "code",
      "execution_count": null,
      "metadata": {
        "id": "-Nu2Pw24acFD",
        "colab": {
          "base_uri": "https://localhost:8080/",
          "height": 334
        },
        "outputId": "571d13b8-73ff-4eee-dcbf-1d5aa81e9d39"
      },
      "outputs": [
        {
          "output_type": "display_data",
          "data": {
            "image/png": "[encoded data removed]",
            "text/plain": [
              "<Figure size 1080x360 with 3 Axes>"
            ]
          },
          "metadata": {
            "needs_background": "light"
          }
        }
      ],
      "source": [
        "plot_distributions(raw_notes)"
      ]
    },
    {
      "cell_type": "markdown",
      "metadata": {
        "id": "pfRNk9tEScuf"
      },
      "source": [
        "## Training dataset\n"
      ]
    },
    {
      "cell_type": "code",
      "execution_count": null,
      "metadata": {
        "id": "GiaQiTnXSW-T"
      },
      "outputs": [],
      "source": [
        "num_files = 5\n",
        "all_notes = []\n",
        "for f in filenames[:num_files]:\n",
        "  notes = midi_to_notes(f)\n",
        "  all_notes.append(notes)\n",
        "\n",
        "all_notes = pd.concat(all_notes)"
      ]
    },
    {
      "cell_type": "code",
      "execution_count": null,
      "metadata": {
        "id": "F4bMDeRvgWqx",
        "colab": {
          "base_uri": "https://localhost:8080/"
        },
        "outputId": "a2039c6c-5d36-4100-ff0e-d44ba39e9722"
      },
      "outputs": [
        {
          "output_type": "stream",
          "name": "stdout",
          "text": [
            "Number of notes parsed: 7203\n"
          ]
        }
      ],
      "source": [
        "n_notes = len(all_notes)\n",
        "print('Number of notes parsed:', n_notes)"
      ]
    },
    {
      "cell_type": "code",
      "execution_count": null,
      "metadata": {
        "id": "mvNHCHZdXG2P"
      },
      "outputs": [],
      "source": [
        "key_order = ['pitch', 'step', 'duration']\n",
        "train_notes = np.stack([all_notes[key] for key in key_order], axis=1)"
      ]
    },
    {
      "cell_type": "code",
      "execution_count": null,
      "metadata": {
        "id": "PLC_19tshyFk",
        "colab": {
          "base_uri": "https://localhost:8080/"
        },
        "outputId": "75d75c31-f517-41f6-fe81-2fb0d790e191"
      },
      "outputs": [
        {
          "output_type": "execute_result",
          "data": {
            "text/plain": [
              "TensorSpec(shape=(3,), dtype=tf.float64, name=None)"
            ]
          },
          "metadata": {},
          "execution_count": 42
        }
      ],
      "source": [
        "notes_ds = tf.data.Dataset.from_tensor_slices(train_notes)\n",
        "notes_ds.element_spec"
      ]
    },
    {
      "cell_type": "code",
      "execution_count": null,
      "metadata": {
        "id": "ZkEC-5s6wJJV"
      },
      "outputs": [],
      "source": [
        "def create_sequences(\n",
        "    dataset: tf.data.Dataset, \n",
        "    seq_length: int,\n",
        "    vocab_size = 128,\n",
        ") -> tf.data.Dataset:\n",
        "  \"\"\"Returns TF Dataset of sequence and label examples.\"\"\"\n",
        "  seq_length = seq_length+1\n",
        "\n",
        "  # Take 1 extra for the labels\n",
        "  windows = dataset.window(seq_length, shift=1, stride=1,\n",
        "                              drop_remainder=True)\n",
        "\n",
        "  # `flat_map` flattens the\" dataset of datasets\" into a dataset of tensors\n",
        "  flatten = lambda x: x.batch(seq_length, drop_remainder=True)\n",
        "  sequences = windows.flat_map(flatten)\n",
        "  \n",
        "  # Normalize note pitch\n",
        "  def scale_pitch(x):\n",
        "    x = x/[vocab_size,1.0,1.0]\n",
        "    return x\n",
        "\n",
        "  # Split the labels\n",
        "  def split_labels(sequences):\n",
        "    inputs = sequences[:-1]\n",
        "    labels_dense = sequences[-1]\n",
        "    labels = {key:labels_dense[i] for i,key in enumerate(key_order)}\n",
        "\n",
        "    return scale_pitch(inputs), labels\n",
        "\n",
        "  return sequences.map(split_labels, num_parallel_calls=tf.data.AUTOTUNE)"
      ]
    },
    {
      "cell_type": "code",
      "execution_count": null,
      "metadata": {
        "id": "fGA3VxcFXZ4T",
        "colab": {
          "base_uri": "https://localhost:8080/"
        },
        "outputId": "67ed3ee1-ac7e-41ee-e4a5-868417475858"
      },
      "outputs": [
        {
          "output_type": "execute_result",
          "data": {
            "text/plain": [
              "(TensorSpec(shape=(25, 3), dtype=tf.float64, name=None),\n",
              " {'duration': TensorSpec(shape=(), dtype=tf.float64, name=None),\n",
              "  'pitch': TensorSpec(shape=(), dtype=tf.float64, name=None),\n",
              "  'step': TensorSpec(shape=(), dtype=tf.float64, name=None)})"
            ]
          },
          "metadata": {},
          "execution_count": 44
        }
      ],
      "source": [
        "seq_length = 25\n",
        "vocab_size = 128\n",
        "seq_ds = create_sequences(notes_ds, seq_length, vocab_size)\n",
        "seq_ds.element_spec"
      ]
    },
    {
      "cell_type": "code",
      "execution_count": null,
      "metadata": {
        "id": "ESK9cL7__TF3",
        "colab": {
          "base_uri": "https://localhost:8080/"
        },
        "outputId": "cb433cb5-c1c6-43eb-a06b-5691c2c11926"
      },
      "outputs": [
        {
          "output_type": "stream",
          "name": "stdout",
          "text": [
            "sequence shape: (25, 3)\n",
            "sequence elements (first 10): tf.Tensor(\n",
            "[[0.578125   0.         0.16703753]\n",
            " [0.5625     0.06897033 0.10237784]\n",
            " [0.546875   0.06681501 0.13794067]\n",
            " [0.5625     0.20798866 0.08297993]\n",
            " [0.5625     0.206911   0.11854276]\n",
            " [0.578125   0.09914485 0.36101659]\n",
            " [0.546875   0.1174651  0.22630891]\n",
            " [0.5625     0.21984294 0.17350349]\n",
            " [0.578125   0.13363002 0.1594939 ]\n",
            " [0.546875   0.05819372 0.09591187]], shape=(10, 3), dtype=float64)\n",
            "\n",
            "target: {'pitch': <tf.Tensor: shape=(), dtype=float64, numpy=72.0>, 'step': <tf.Tensor: shape=(), dtype=float64, numpy=0.07866928645833227>, 'duration': <tf.Tensor: shape=(), dtype=float64, numpy=0.09806719270833497>}\n"
          ]
        }
      ],
      "source": [
        "for seq, target in seq_ds.take(1):\n",
        "  print('sequence shape:', seq.shape)\n",
        "  print('sequence elements (first 10):', seq[0: 10])\n",
        "  print()\n",
        "  print('target:', target)"
      ]
    },
    {
      "cell_type": "code",
      "execution_count": null,
      "metadata": {
        "id": "fTpFoiM_AV_Y"
      },
      "outputs": [],
      "source": [
        "batch_size = 64\n",
        "buffer_size = n_notes - seq_length  # the number of items in the dataset\n",
        "train_ds = (seq_ds\n",
        "            .shuffle(buffer_size)\n",
        "            .batch(batch_size, drop_remainder=True)\n",
        "            .cache()\n",
        "            .prefetch(tf.data.experimental.AUTOTUNE))"
      ]
    },
    {
      "cell_type": "code",
      "execution_count": null,
      "metadata": {
        "id": "LySbjV0GzXQu",
        "colab": {
          "base_uri": "https://localhost:8080/"
        },
        "outputId": "eeeef2a5-78a2-46fa-d8b1-d0d7239aa180"
      },
      "outputs": [
        {
          "output_type": "execute_result",
          "data": {
            "text/plain": [
              "(TensorSpec(shape=(64, 25, 3), dtype=tf.float64, name=None),\n",
              " {'duration': TensorSpec(shape=(64,), dtype=tf.float64, name=None),\n",
              "  'pitch': TensorSpec(shape=(64,), dtype=tf.float64, name=None),\n",
              "  'step': TensorSpec(shape=(64,), dtype=tf.float64, name=None)})"
            ]
          },
          "metadata": {},
          "execution_count": 47
        }
      ],
      "source": [
        "train_ds.element_spec"
      ]
    },
    {
      "cell_type": "code",
      "execution_count": null,
      "metadata": {
        "id": "erxLOif08e8v"
      },
      "outputs": [],
      "source": [
        "def mse_with_positive_pressure(y_true: tf.Tensor, y_pred: tf.Tensor):\n",
        "  mse = (y_true - y_pred) ** 2\n",
        "  positive_pressure = 10 * tf.maximum(-y_pred, 0.0)\n",
        "  return tf.reduce_mean(mse + positive_pressure)"
      ]
    },
    {
      "cell_type": "code",
      "execution_count": null,
      "metadata": {
        "id": "kNaVWcCzAm5V",
        "colab": {
          "base_uri": "https://localhost:8080/"
        },
        "outputId": "06811a58-a656-4fac-b2f2-dcd6062cb8a7"
      },
      "outputs": [
        {
          "output_type": "stream",
          "name": "stdout",
          "text": [
            "Model: \"model\"\n",
            "__________________________________________________________________________________________________\n",
            " Layer (type)                   Output Shape         Param #     Connected to                     \n",
            "==================================================================================================\n",
            " input_1 (InputLayer)           [(None, 25, 3)]      0           []                               \n",
            "                                                                                                  \n",
            " lstm (LSTM)                    (None, 128)          67584       ['input_1[0][0]']                \n",
            "                                                                                                  \n",
            " duration (Dense)               (None, 1)            129         ['lstm[0][0]']                   \n",
            "                                                                                                  \n",
            " pitch (Dense)                  (None, 128)          16512       ['lstm[0][0]']                   \n",
            "                                                                                                  \n",
            " step (Dense)                   (None, 1)            129         ['lstm[0][0]']                   \n",
            "                                                                                                  \n",
            "==================================================================================================\n",
            "Total params: 84,354\n",
            "Trainable params: 84,354\n",
            "Non-trainable params: 0\n",
            "__________________________________________________________________________________________________\n"
          ]
        }
      ],
      "source": [
        "input_shape = (seq_length, 3)\n",
        "learning_rate = 0.005\n",
        "\n",
        "inputs = tf.keras.Input(input_shape)\n",
        "x = tf.keras.layers.LSTM(128)(inputs)\n",
        "\n",
        "outputs = {\n",
        "  'pitch': tf.keras.layers.Dense(128, name='pitch')(x),\n",
        "  'step': tf.keras.layers.Dense(1, name='step')(x),\n",
        "  'duration': tf.keras.layers.Dense(1, name='duration')(x),\n",
        "}\n",
        "\n",
        "model = tf.keras.Model(inputs, outputs)\n",
        "\n",
        "loss = {\n",
        "      'pitch': tf.keras.losses.SparseCategoricalCrossentropy(\n",
        "          from_logits=True),\n",
        "      'step': mse_with_positive_pressure,\n",
        "      'duration': mse_with_positive_pressure,\n",
        "}\n",
        "\n",
        "optimizer = tf.keras.optimizers.Adam(learning_rate=learning_rate)\n",
        "\n",
        "model.compile(loss=loss, optimizer=optimizer)\n",
        "\n",
        "model.summary()"
      ]
    },
    {
      "cell_type": "code",
      "execution_count": null,
      "metadata": {
        "id": "BlATt7Rl0XJl",
        "colab": {
          "base_uri": "https://localhost:8080/"
        },
        "outputId": "b8cd059e-60bc-4769-cb13-c81a79deeeff"
      },
      "outputs": [
        {
          "output_type": "stream",
          "name": "stdout",
          "text": [
            "112/112 [==============================] - 5s 18ms/step - loss: 6.4155 - duration_loss: 0.0272 - pitch_loss: 4.8526 - step_loss: 1.5357\n"
          ]
        },
        {
          "output_type": "execute_result",
          "data": {
            "text/plain": [
              "{'duration_loss': 0.02719973213970661,\n",
              " 'loss': 6.415541172027588,\n",
              " 'pitch_loss': 4.852644920349121,\n",
              " 'step_loss': 1.53569495677948}"
            ]
          },
          "metadata": {},
          "execution_count": 50
        }
      ],
      "source": [
        "losses = model.evaluate(train_ds, return_dict=True)\n",
        "losses"
      ]
    },
    {
      "cell_type": "code",
      "execution_count": null,
      "metadata": {
        "id": "9fQB5SiN3ufX"
      },
      "outputs": [],
      "source": [
        "model.compile(\n",
        "    loss=loss,\n",
        "    loss_weights={\n",
        "        'pitch': 0.05,\n",
        "        'step': 1.0,\n",
        "        'duration':1.0,\n",
        "    },\n",
        "    optimizer=optimizer,\n",
        ")"
      ]
    },
    {
      "cell_type": "code",
      "execution_count": null,
      "metadata": {
        "id": "T7CzWmFR38ut",
        "colab": {
          "base_uri": "https://localhost:8080/"
        },
        "outputId": "1491fb8c-0337-4653-da01-64f4b38ce824"
      },
      "outputs": [
        {
          "output_type": "stream",
          "name": "stdout",
          "text": [
            "112/112 [==============================] - 4s 23ms/step - loss: 1.8055 - duration_loss: 0.0272 - pitch_loss: 4.8526 - step_loss: 1.5357\n"
          ]
        },
        {
          "output_type": "execute_result",
          "data": {
            "text/plain": [
              "{'duration_loss': 0.02719973213970661,\n",
              " 'loss': 1.805526614189148,\n",
              " 'pitch_loss': 4.852644920349121,\n",
              " 'step_loss': 1.53569495677948}"
            ]
          },
          "metadata": {},
          "execution_count": 52
        }
      ],
      "source": [
        "model.evaluate(train_ds, return_dict=True)"
      ]
    },
    {
      "cell_type": "code",
      "execution_count": null,
      "metadata": {
        "id": "uQA_rwKEgPjp"
      },
      "outputs": [],
      "source": [
        "callbacks = [\n",
        "    tf.keras.callbacks.ModelCheckpoint(\n",
        "        filepath='./training_checkpoints/ckpt_{epoch}',\n",
        "        save_weights_only=True),\n",
        "    tf.keras.callbacks.EarlyStopping(\n",
        "        monitor='loss',\n",
        "        patience=5,\n",
        "        verbose=1,\n",
        "        restore_best_weights=True),\n",
        "]"
      ]
    },
    {
      "cell_type": "code",
      "execution_count": null,
      "metadata": {
        "id": "aLoYY8-XaPFN",
        "colab": {
          "base_uri": "https://localhost:8080/"
        },
        "outputId": "245508ce-ff76-40c9-c19b-b3850df3b880"
      },
      "outputs": [
        {
          "output_type": "stream",
          "name": "stdout",
          "text": [
            "Epoch 1/50\n",
            "112/112 [==============================] - 6s 37ms/step - loss: 1.7289 - duration_loss: 0.0168 - pitch_loss: 3.7773 - step_loss: 1.5232\n",
            "Epoch 2/50\n",
            "112/112 [==============================] - 4s 37ms/step - loss: 1.6610 - duration_loss: 0.0138 - pitch_loss: 2.7573 - step_loss: 1.5093\n",
            "Epoch 3/50\n",
            "112/112 [==============================] - 4s 36ms/step - loss: 1.6469 - duration_loss: 0.0130 - pitch_loss: 2.5916 - step_loss: 1.5044\n",
            "Epoch 4/50\n",
            "112/112 [==============================] - 4s 37ms/step - loss: 1.6299 - duration_loss: 0.0123 - pitch_loss: 2.3222 - step_loss: 1.5014\n",
            "Epoch 5/50\n",
            "112/112 [==============================] - 4s 37ms/step - loss: 1.6215 - duration_loss: 0.0123 - pitch_loss: 2.2322 - step_loss: 1.4976\n",
            "Epoch 6/50\n",
            "112/112 [==============================] - 4s 36ms/step - loss: 1.6225 - duration_loss: 0.0122 - pitch_loss: 2.3792 - step_loss: 1.4913\n",
            "Epoch 7/50\n",
            "112/112 [==============================] - 4s 36ms/step - loss: 1.6183 - duration_loss: 0.0120 - pitch_loss: 2.1818 - step_loss: 1.4972\n",
            "Epoch 8/50\n",
            "112/112 [==============================] - 4s 36ms/step - loss: 1.6125 - duration_loss: 0.0121 - pitch_loss: 2.2309 - step_loss: 1.4888\n",
            "Epoch 9/50\n",
            "112/112 [==============================] - 4s 37ms/step - loss: 1.6126 - duration_loss: 0.0120 - pitch_loss: 2.2162 - step_loss: 1.4898\n",
            "Epoch 10/50\n",
            "112/112 [==============================] - 4s 37ms/step - loss: 1.6472 - duration_loss: 0.0207 - pitch_loss: 2.6131 - step_loss: 1.4958\n",
            "Epoch 11/50\n",
            "112/112 [==============================] - 4s 37ms/step - loss: 1.5990 - duration_loss: 0.0134 - pitch_loss: 2.1218 - step_loss: 1.4795\n",
            "Epoch 12/50\n",
            "112/112 [==============================] - 4s 37ms/step - loss: 1.5956 - duration_loss: 0.0127 - pitch_loss: 2.1395 - step_loss: 1.4760\n",
            "Epoch 13/50\n",
            "112/112 [==============================] - 4s 37ms/step - loss: 1.5975 - duration_loss: 0.0131 - pitch_loss: 2.1665 - step_loss: 1.4761\n",
            "Epoch 14/50\n",
            "112/112 [==============================] - 4s 37ms/step - loss: 1.5919 - duration_loss: 0.0125 - pitch_loss: 2.1731 - step_loss: 1.4708\n",
            "Epoch 15/50\n",
            "112/112 [==============================] - 4s 37ms/step - loss: 1.6016 - duration_loss: 0.0125 - pitch_loss: 2.1844 - step_loss: 1.4799\n",
            "Epoch 16/50\n",
            "112/112 [==============================] - 4s 37ms/step - loss: 1.5919 - duration_loss: 0.0132 - pitch_loss: 2.2339 - step_loss: 1.4670\n",
            "Epoch 17/50\n",
            "112/112 [==============================] - 5s 45ms/step - loss: 1.5555 - duration_loss: 0.0127 - pitch_loss: 2.1025 - step_loss: 1.4377\n",
            "Epoch 18/50\n",
            "112/112 [==============================] - 4s 37ms/step - loss: 1.5805 - duration_loss: 0.0136 - pitch_loss: 2.1289 - step_loss: 1.4605\n",
            "Epoch 19/50\n",
            "112/112 [==============================] - 4s 37ms/step - loss: 1.5591 - duration_loss: 0.0117 - pitch_loss: 2.1314 - step_loss: 1.4408\n",
            "Epoch 20/50\n",
            "112/112 [==============================] - 4s 37ms/step - loss: 1.5801 - duration_loss: 0.0117 - pitch_loss: 2.0861 - step_loss: 1.4640\n",
            "Epoch 21/50\n",
            "112/112 [==============================] - 4s 37ms/step - loss: 1.4956 - duration_loss: 0.0115 - pitch_loss: 2.0993 - step_loss: 1.3791\n",
            "Epoch 22/50\n",
            "112/112 [==============================] - 4s 37ms/step - loss: 1.5937 - duration_loss: 0.0122 - pitch_loss: 2.1792 - step_loss: 1.4725\n",
            "Epoch 23/50\n",
            "112/112 [==============================] - 4s 37ms/step - loss: 1.5536 - duration_loss: 0.0117 - pitch_loss: 2.0529 - step_loss: 1.4393\n",
            "Epoch 24/50\n",
            "112/112 [==============================] - 4s 37ms/step - loss: 1.4778 - duration_loss: 0.0120 - pitch_loss: 2.0079 - step_loss: 1.3654\n",
            "Epoch 25/50\n",
            "112/112 [==============================] - 4s 37ms/step - loss: 1.5264 - duration_loss: 0.0116 - pitch_loss: 1.9554 - step_loss: 1.4170\n",
            "Epoch 26/50\n",
            "112/112 [==============================] - 4s 37ms/step - loss: 1.3812 - duration_loss: 0.0111 - pitch_loss: 1.9945 - step_loss: 1.2704\n",
            "Epoch 27/50\n",
            "112/112 [==============================] - 4s 37ms/step - loss: 1.5867 - duration_loss: 0.0109 - pitch_loss: 1.9951 - step_loss: 1.4760\n",
            "Epoch 28/50\n",
            "112/112 [==============================] - 4s 37ms/step - loss: 1.6086 - duration_loss: 0.0138 - pitch_loss: 2.3291 - step_loss: 1.4784\n",
            "Epoch 29/50\n",
            "112/112 [==============================] - 4s 37ms/step - loss: 1.5614 - duration_loss: 0.0137 - pitch_loss: 2.1688 - step_loss: 1.4393\n",
            "Epoch 30/50\n",
            "112/112 [==============================] - 4s 38ms/step - loss: 1.5794 - duration_loss: 0.0109 - pitch_loss: 1.9855 - step_loss: 1.4693\n",
            "Epoch 31/50\n",
            "111/112 [============================>.] - ETA: 0s - loss: 1.5674 - duration_loss: 0.0109 - pitch_loss: 1.9721 - step_loss: 1.4579Restoring model weights from the end of the best epoch: 26.\n",
            "112/112 [==============================] - 4s 37ms/step - loss: 1.5545 - duration_loss: 0.0108 - pitch_loss: 1.9736 - step_loss: 1.4450\n",
            "Epoch 00031: early stopping\n",
            "CPU times: user 3min 18s, sys: 13.1 s, total: 3min 31s\n",
            "Wall time: 2min 21s\n"
          ]
        }
      ],
      "source": [
        "%%time\n",
        "epochs = 50\n",
        "\n",
        "history = model.fit(\n",
        "    train_ds,\n",
        "    epochs=epochs,\n",
        "    callbacks=callbacks,\n",
        ")"
      ]
    },
    {
      "cell_type": "code",
      "execution_count": null,
      "metadata": {
        "id": "PYBSjgDWiUfT",
        "colab": {
          "base_uri": "https://localhost:8080/",
          "height": 265
        },
        "outputId": "a4a0a902-b973-4d7b-a4d0-627942dd4064"
      },
      "outputs": [
        {
          "output_type": "display_data",
          "data": {
            "image/png": "[encoded data removed]",
            "text/plain": [
              "<Figure size 432x288 with 1 Axes>"
            ]
          },
          "metadata": {
            "needs_background": "light"
          }
        }
      ],
      "source": [
        "plt.plot(history.epoch, history.history['loss'], label='total loss')\n",
        "plt.show()"
      ]
    },
    {
      "cell_type": "code",
      "execution_count": null,
      "metadata": {
        "id": "1mil8ZyJNe1w"
      },
      "outputs": [],
      "source": [
        "def predict_next_note(\n",
        "    notes: np.ndarray, \n",
        "    keras_model: tf.keras.Model, \n",
        "    temperature: float = 1.0) -> int:\n",
        "  \"\"\"Generates a note IDs using a trained sequence model.\"\"\"\n",
        "\n",
        "  assert temperature > 0\n",
        "\n",
        "  # Add batch dimension\n",
        "  inputs = tf.expand_dims(notes, 0)\n",
        "\n",
        "  predictions = model.predict(inputs)\n",
        "  pitch_logits = predictions['pitch']\n",
        "  step = predictions['step']\n",
        "  duration = predictions['duration']\n",
        " \n",
        "  pitch_logits /= temperature\n",
        "  pitch = tf.random.categorical(pitch_logits, num_samples=1)\n",
        "  pitch = tf.squeeze(pitch, axis=-1)\n",
        "  duration = tf.squeeze(duration, axis=-1)\n",
        "  step = tf.squeeze(step, axis=-1)\n",
        "\n",
        "  # `step` and `duration` values should be non-negative\n",
        "  step = tf.maximum(0, step)\n",
        "  duration = tf.maximum(0, duration)\n",
        "\n",
        "  return int(pitch), float(step), float(duration)"
      ]
    },
    {
      "cell_type": "code",
      "execution_count": null,
      "metadata": {
        "id": "87fPl4auPdR3"
      },
      "outputs": [],
      "source": [
        "temperature = 2.0\n",
        "num_predictions = 120\n",
        "\n",
        "sample_notes = np.stack([raw_notes[key] for key in key_order], axis=1)\n",
        "\n",
        "# The initial sequence of notes; pitch is normalized similar to training\n",
        "# sequences\n",
        "input_notes = (\n",
        "    sample_notes[:seq_length] / np.array([vocab_size, 1, 1]))\n",
        "\n",
        "generated_notes = []\n",
        "prev_start = 0\n",
        "for _ in range(num_predictions):\n",
        "  pitch, step, duration = predict_next_note(input_notes, model, temperature)\n",
        "  start = prev_start + step\n",
        "  end = start + duration\n",
        "  input_note = (pitch, step, duration)\n",
        "  generated_notes.append((*input_note, start, end))\n",
        "  input_notes = np.delete(input_notes, 0, axis=0)\n",
        "  input_notes = np.append(input_notes, np.expand_dims(input_note, 0), axis=0)\n",
        "  prev_start = start\n",
        "\n",
        "generated_notes = pd.DataFrame(\n",
        "    generated_notes, columns=(*key_order, 'start', 'end'))"
      ]
    },
    {
      "cell_type": "code",
      "execution_count": null,
      "metadata": {
        "id": "0MK7HmqLuqka",
        "colab": {
          "base_uri": "https://localhost:8080/",
          "height": 363
        },
        "outputId": "f4b55f80-ab45-41e2-a1d8-0507115fbcb3"
      },
      "outputs": [
        {
          "output_type": "execute_result",
          "data": {
            "text/html": [
              "\n",
              "  <div id=\"df-4419c045-b5f5-4065-9e87-1951f15b0b94\">\n",
              "    <div class=\"colab-df-container\">\n",
              "      <div>\n",
              "<style scoped>\n",
              "    .dataframe tbody tr th:only-of-type {\n",
              "        vertical-align: middle;\n",
              "    }\n",
              "\n",
              "    .dataframe tbody tr th {\n",
              "        vertical-align: top;\n",
              "    }\n",
              "\n",
              "    .dataframe thead th {\n",
              "        text-align: right;\n",
              "    }\n",
              "</style>\n",
              "<table border=\"1\" class=\"dataframe\">\n",
              "  <thead>\n",
              "    <tr style=\"text-align: right;\">\n",
              "      <th></th>\n",
              "      <th>pitch</th>\n",
              "      <th>step</th>\n",
              "      <th>duration</th>\n",
              "      <th>start</th>\n",
              "      <th>end</th>\n",
              "    </tr>\n",
              "  </thead>\n",
              "  <tbody>\n",
              "    <tr>\n",
              "      <th>0</th>\n",
              "      <td>65</td>\n",
              "      <td>0.071995</td>\n",
              "      <td>0.208480</td>\n",
              "      <td>0.071995</td>\n",
              "      <td>0.280475</td>\n",
              "    </tr>\n",
              "    <tr>\n",
              "      <th>1</th>\n",
              "      <td>53</td>\n",
              "      <td>0.000000</td>\n",
              "      <td>0.264028</td>\n",
              "      <td>0.071995</td>\n",
              "      <td>0.336023</td>\n",
              "    </tr>\n",
              "    <tr>\n",
              "      <th>2</th>\n",
              "      <td>73</td>\n",
              "      <td>0.000000</td>\n",
              "      <td>0.229158</td>\n",
              "      <td>0.071995</td>\n",
              "      <td>0.301153</td>\n",
              "    </tr>\n",
              "    <tr>\n",
              "      <th>3</th>\n",
              "      <td>36</td>\n",
              "      <td>0.000000</td>\n",
              "      <td>0.249065</td>\n",
              "      <td>0.071995</td>\n",
              "      <td>0.321060</td>\n",
              "    </tr>\n",
              "    <tr>\n",
              "      <th>4</th>\n",
              "      <td>72</td>\n",
              "      <td>0.000000</td>\n",
              "      <td>0.207760</td>\n",
              "      <td>0.071995</td>\n",
              "      <td>0.279755</td>\n",
              "    </tr>\n",
              "    <tr>\n",
              "      <th>5</th>\n",
              "      <td>68</td>\n",
              "      <td>0.000000</td>\n",
              "      <td>0.263517</td>\n",
              "      <td>0.071995</td>\n",
              "      <td>0.335511</td>\n",
              "    </tr>\n",
              "    <tr>\n",
              "      <th>6</th>\n",
              "      <td>48</td>\n",
              "      <td>0.000000</td>\n",
              "      <td>0.255159</td>\n",
              "      <td>0.071995</td>\n",
              "      <td>0.327154</td>\n",
              "    </tr>\n",
              "    <tr>\n",
              "      <th>7</th>\n",
              "      <td>74</td>\n",
              "      <td>0.000000</td>\n",
              "      <td>0.236258</td>\n",
              "      <td>0.071995</td>\n",
              "      <td>0.308253</td>\n",
              "    </tr>\n",
              "    <tr>\n",
              "      <th>8</th>\n",
              "      <td>89</td>\n",
              "      <td>0.000000</td>\n",
              "      <td>0.271205</td>\n",
              "      <td>0.071995</td>\n",
              "      <td>0.343199</td>\n",
              "    </tr>\n",
              "    <tr>\n",
              "      <th>9</th>\n",
              "      <td>75</td>\n",
              "      <td>0.000000</td>\n",
              "      <td>0.278227</td>\n",
              "      <td>0.071995</td>\n",
              "      <td>0.350222</td>\n",
              "    </tr>\n",
              "  </tbody>\n",
              "</table>\n",
              "</div>\n",
              "      <button class=\"colab-df-convert\" onclick=\"convertToInteractive('df-4419c045-b5f5-4065-9e87-1951f15b0b94')\"\n",
              "              title=\"Convert this dataframe to an interactive table.\"\n",
              "              style=\"display:none;\">\n",
              "        \n",
              "  <svg xmlns=\"http://www.w3.org/2000/svg\" height=\"24px\"viewBox=\"0 0 24 24\"\n",
              "       width=\"24px\">\n",
              "    <path d=\"M0 0h24v24H0V0z\" fill=\"none\"/>\n",
              "    <path d=\"M18.56 5.44l.94 2.06.94-2.06 2.06-.94-2.06-.94-.94-2.06-.94 2.06-2.06.94zm-11 1L8.5 8.5l.94-2.06 2.06-.94-2.06-.94L8.5 2.5l-.94 2.06-2.06.94zm10 10l.94 2.06.94-2.06 2.06-.94-2.06-.94-.94-2.06-.94 2.06-2.06.94z\"/><path d=\"M17.41 7.96l-1.37-1.37c-.4-.4-.92-.59-1.43-.59-.52 0-1.04.2-1.43.59L10.3 9.45l-7.72 7.72c-.78.78-.78 2.05 0 2.83L4 21.41c.39.39.9.59 1.41.59.51 0 1.02-.2 1.41-.59l7.78-7.78 2.81-2.81c.8-.78.8-2.07 0-2.86zM5.41 20L4 18.59l7.72-7.72 1.47 1.35L5.41 20z\"/>\n",
              "  </svg>\n",
              "      </button>\n",
              "      \n",
              "  <style>\n",
              "    .colab-df-container {\n",
              "      display:flex;\n",
              "      flex-wrap:wrap;\n",
              "      gap: 12px;\n",
              "    }\n",
              "\n",
              "    .colab-df-convert {\n",
              "      background-color: #E8F0FE;\n",
              "      border: none;\n",
              "      border-radius: 50%;\n",
              "      cursor: pointer;\n",
              "      display: none;\n",
              "      fill: #1967D2;\n",
              "      height: 32px;\n",
              "      padding: 0 0 0 0;\n",
              "      width: 32px;\n",
              "    }\n",
              "\n",
              "    .colab-df-convert:hover {\n",
              "      background-color: #E2EBFA;\n",
              "      box-shadow: 0px 1px 2px rgba(60, 64, 67, 0.3), 0px 1px 3px 1px rgba(60, 64, 67, 0.15);\n",
              "      fill: #174EA6;\n",
              "    }\n",
              "\n",
              "    [theme=dark] .colab-df-convert {\n",
              "      background-color: #3B4455;\n",
              "      fill: #D2E3FC;\n",
              "    }\n",
              "\n",
              "    [theme=dark] .colab-df-convert:hover {\n",
              "      background-color: #434B5C;\n",
              "      box-shadow: 0px 1px 3px 1px rgba(0, 0, 0, 0.15);\n",
              "      filter: drop-shadow(0px 1px 2px rgba(0, 0, 0, 0.3));\n",
              "      fill: #FFFFFF;\n",
              "    }\n",
              "  </style>\n",
              "\n",
              "      <script>\n",
              "        const buttonEl =\n",
              "          document.querySelector('#df-4419c045-b5f5-4065-9e87-1951f15b0b94 button.colab-df-convert');\n",
              "        buttonEl.style.display =\n",
              "          google.colab.kernel.accessAllowed ? 'block' : 'none';\n",
              "\n",
              "        async function convertToInteractive(key) {\n",
              "          const element = document.querySelector('#df-4419c045-b5f5-4065-9e87-1951f15b0b94');\n",
              "          const dataTable =\n",
              "            await google.colab.kernel.invokeFunction('convertToInteractive',\n",
              "                                                     [key], {});\n",
              "          if (!dataTable) return;\n",
              "\n",
              "          const docLinkHtml = 'Like what you see? Visit the ' +\n",
              "            '<a target=\"_blank\" href=https://colab.research.google.com/notebooks/data_table.ipynb>data table notebook</a>'\n",
              "            + ' to learn more about interactive tables.';\n",
              "          element.innerHTML = '';\n",
              "          dataTable['output_type'] = 'display_data';\n",
              "          await google.colab.output.renderOutput(dataTable, element);\n",
              "          const docLink = document.createElement('div');\n",
              "          docLink.innerHTML = docLinkHtml;\n",
              "          element.appendChild(docLink);\n",
              "        }\n",
              "      </script>\n",
              "    </div>\n",
              "  </div>\n",
              "  "
            ],
            "text/plain": [
              "   pitch      step  duration     start       end\n",
              "0     65  0.071995  0.208480  0.071995  0.280475\n",
              "1     53  0.000000  0.264028  0.071995  0.336023\n",
              "2     73  0.000000  0.229158  0.071995  0.301153\n",
              "3     36  0.000000  0.249065  0.071995  0.321060\n",
              "4     72  0.000000  0.207760  0.071995  0.279755\n",
              "5     68  0.000000  0.263517  0.071995  0.335511\n",
              "6     48  0.000000  0.255159  0.071995  0.327154\n",
              "7     74  0.000000  0.236258  0.071995  0.308253\n",
              "8     89  0.000000  0.271205  0.071995  0.343199\n",
              "9     75  0.000000  0.278227  0.071995  0.350222"
            ]
          },
          "metadata": {},
          "execution_count": 58
        }
      ],
      "source": [
        "generated_notes.head(10)"
      ]
    },
    {
      "cell_type": "code",
      "execution_count": null,
      "metadata": {
        "id": "e9K9KHPaTNnK",
        "colab": {
          "base_uri": "https://localhost:8080/",
          "height": 75
        },
        "outputId": "a5121500-0421-4404-9549-9d6fdf137cdf"
      },
      "outputs": [
        {
          "output_type": "execute_result",
          "data": {
            "text/html": [
              "\n",
              "                <audio controls=\"controls\" >\n",
              "                    <source src=\"data:audio/wav;base64,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\" type=\"audio/wav\" />\n",
              "                    Your browser does not support the audio element.\n",
              "                </audio>\n",
              "              "
            ],
            "text/plain": [
              "<IPython.lib.display.Audio object>"
            ]
          },
          "metadata": {},
          "execution_count": 59
        }
      ],
      "source": [
        "out_file = 'output.mid'\n",
        "out_pm = notes_to_midi(\n",
        "    generated_notes, out_file=out_file, instrument_name=instrument_name)\n",
        "display_audio(out_pm)"
      ]
    },
    {
      "cell_type": "code",
      "source": [
        "from google.colab import files\n",
        "files.download(out_file)"
      ],
      "metadata": {
        "colab": {
          "base_uri": "https://localhost:8080/",
          "height": 17
        },
        "id": "r6cUOlXsF3iw",
        "outputId": "f117a417-cf32-4813-f960-c40ef791fde9"
      },
      "execution_count": null,
      "outputs": [
        {
          "output_type": "display_data",
          "data": {
            "application/javascript": [
              "\n",
              "    async function download(id, filename, size) {\n",
              "      if (!google.colab.kernel.accessAllowed) {\n",
              "        return;\n",
              "      }\n",
              "      const div = document.createElement('div');\n",
              "      const label = document.createElement('label');\n",
              "      label.textContent = `Downloading \"${filename}\": `;\n",
              "      div.appendChild(label);\n",
              "      const progress = document.createElement('progress');\n",
              "      progress.max = size;\n",
              "      div.appendChild(progress);\n",
              "      document.body.appendChild(div);\n",
              "\n",
              "      const buffers = [];\n",
              "      let downloaded = 0;\n",
              "\n",
              "      const channel = await google.colab.kernel.comms.open(id);\n",
              "      // Send a message to notify the kernel that we're ready.\n",
              "      channel.send({})\n",
              "\n",
              "      for await (const message of channel.messages) {\n",
              "        // Send a message to notify the kernel that we're ready.\n",
              "        channel.send({})\n",
              "        if (message.buffers) {\n",
              "          for (const buffer of message.buffers) {\n",
              "            buffers.push(buffer);\n",
              "            downloaded += buffer.byteLength;\n",
              "            progress.value = downloaded;\n",
              "          }\n",
              "        }\n",
              "      }\n",
              "      const blob = new Blob(buffers, {type: 'application/binary'});\n",
              "      const a = document.createElement('a');\n",
              "      a.href = window.URL.createObjectURL(blob);\n",
              "      a.download = filename;\n",
              "      div.appendChild(a);\n",
              "      a.click();\n",
              "      div.remove();\n",
              "    }\n",
              "  "
            ],
            "text/plain": [
              "<IPython.core.display.Javascript object>"
            ]
          },
          "metadata": {}
        },
        {
          "output_type": "display_data",
          "data": {
            "application/javascript": [
              "download(\"download_479f6e6f-e8db-496c-b1e8-197c52d76253\", \"output.mid\", 777)"
            ],
            "text/plain": [
              "<IPython.core.display.Javascript object>"
            ]
          },
          "metadata": {}
        }
      ]
    },
    {
      "cell_type": "code",
      "execution_count": null,
      "metadata": {
        "id": "NlNsxcnhvbcK",
        "colab": {
          "base_uri": "https://localhost:8080/",
          "height": 282
        },
        "outputId": "4c32903b-1d83-4388-e7df-7bd42620fb8c"
      },
      "outputs": [
        {
          "output_type": "display_data",
          "data": {
            "image/png": "[encoded data removed]",
            "text/plain": [
              "<Figure size 1440x288 with 1 Axes>"
            ]
          },
          "metadata": {
            "needs_background": "light"
          }
        }
      ],
      "source": [
        "plot_piano_roll(generated_notes)"
      ]
    },
    {
      "cell_type": "code",
      "execution_count": null,
      "metadata": {
        "id": "j5bco2WVRkAa",
        "colab": {
          "base_uri": "https://localhost:8080/",
          "height": 334
        },
        "outputId": "81ae50d3-66de-46cc-fa5c-a5c3f44839a7"
      },
      "outputs": [
        {
          "output_type": "display_data",
          "data": {
            "image/png": "[encoded data removed]",
            "text/plain": [
              "<Figure size 1080x360 with 3 Axes>"
            ]
          },
          "metadata": {
            "needs_background": "light"
          }
        }
      ],
      "source": [
        "plot_distributions(generated_notes)"
      ]
    }
  ],
  "metadata": {
    "colab": {
      "collapsed_sections": [],
      "name": "HW5.ipynb ",
      "provenance": []
    },
    "kernelspec": {
      "display_name": "Python 3",
      "name": "python3"
    }
  },
  "nbformat": 4,
  "nbformat_minor": 0
}